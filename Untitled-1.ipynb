{
 "cells": [
  {
   "cell_type": "code",
   "execution_count": 12,
   "metadata": {},
   "outputs": [],
   "source": [
    "import pandas as pd\n",
    "import numpy as np"
   ]
  },
  {
   "cell_type": "code",
   "execution_count": 13,
   "metadata": {},
   "outputs": [
    {
     "name": "stdout",
     "output_type": "stream",
     "text": [
      "   id_game                 title                      genre   price\n",
      "0        1        Terraria(2011)  Open World Survival Craft   $9.99\n",
      "1        2        Portal 2(2011)                 Platformer   $9.99\n",
      "2        3  Stardew Valley(2016)                Farming Sim  $14.99\n",
      "3        4           Hades(2020)           Action Roguelike  $24.99\n",
      "4        5   Left 4 Dead 2(2009)                    Zombies   $9.99\n"
     ]
    }
   ],
   "source": [
    "games = pd.read_csv('games.csv')\n",
    "users = pd.read_csv('user.csv')\n",
    "print(games.head())"
   ]
  },
  {
   "cell_type": "code",
   "execution_count": 14,
   "metadata": {},
   "outputs": [
    {
     "name": "stderr",
     "output_type": "stream",
     "text": [
      "/tmp/ipykernel_7450/3192274442.py:1: FutureWarning: The default value of regex will change from True to False in a future version. In addition, single character regular expressions will *not* be treated as literal strings when regex=True.\n",
      "  games['price'] = games['price'].str.replace('$','')\n"
     ]
    },
    {
     "name": "stdout",
     "output_type": "stream",
     "text": [
      "input the user id2\n"
     ]
    }
   ],
   "source": [
    "games['price'] = games['price'].str.replace('$','')\n",
    "games['price'] = games['price'].replace(to_replace='Free', value='0').astype(float)\n",
    "users['rating'] = users['rating'].str.replace(';', '.')\n",
    "users['rating'] = users['rating'].str.strip('.')\n",
    "users['rating'] = users['rating'].astype(float)\n",
    "input\n",
    "Input = input('input the user id')\n",
    "target_user_id = int(Input)"
   ]
  },
  {
   "cell_type": "code",
   "execution_count": 15,
   "metadata": {},
   "outputs": [],
   "source": [
    "user_ratings_table = users.pivot(index='UserID', columns='GameID', values='rating')\n",
    "user_ratings_table = user_ratings_table.apply(lambda x: x.fillna(x.mean()),axis=1)\n"
   ]
  },
  {
   "cell_type": "code",
   "execution_count": 16,
   "metadata": {},
   "outputs": [],
   "source": [
    "from sklearn.neighbors import KNeighborsRegressor\n",
    "user_based_knn = KNeighborsRegressor(metric='cosine', n_neighbors=5)\n",
    "training_data = user_ratings_table.drop(index = target_user_id)\n",
    "target_data = np.array(user_ratings_table.loc[[target_user_id]])\n",
    "predictions = []\n",
    "for game in games['id_game']:\n",
    "    training_data_x = training_data.drop(game, axis=1)\n",
    "    training_data_y = training_data[[game]]\n",
    "    target_data_x = np.delete(target_data, game-1).reshape(1, -1)\n",
    "    user_based_knn.fit(training_data_x, training_data_y)\n",
    "    pred = user_based_knn.predict(target_data_x)\n",
    "    predictions.append(round(pred[0][0], 2))"
   ]
  },
  {
   "cell_type": "code",
   "execution_count": 17,
   "metadata": {},
   "outputs": [
    {
     "name": "stdout",
     "output_type": "stream",
     "text": [
      "   id_game           title       genre  price\n",
      "8        9  RimWorld(2018)  Colony Sim  34.99\n"
     ]
    }
   ],
   "source": [
    "rate_pred = pd.DataFrame(zip(games['id_game'], predictions), columns=['id_game', 'predicted rating'])\n",
    "s = rate_pred[rate_pred['predicted rating'] == rate_pred['predicted rating'].max()]['id_game'].reset_index(drop=True)\n",
    "print(games[games['id_game']==s[0]])"
   ]
  }
 ],
 "metadata": {
  "interpreter": {
   "hash": "31f2aee4e71d21fbe5cf8b01ff0e069b9275f58929596ceb00d14d90e3e16cd6"
  },
  "kernelspec": {
   "display_name": "Python 3 (ipykernel)",
   "language": "python",
   "name": "python3"
  },
  "language_info": {
   "codemirror_mode": {
    "name": "ipython",
    "version": 3
   },
   "file_extension": ".py",
   "mimetype": "text/x-python",
   "name": "python",
   "nbconvert_exporter": "python",
   "pygments_lexer": "ipython3",
   "version": "3.8.10"
  }
 },
 "nbformat": 4,
 "nbformat_minor": 2
}
